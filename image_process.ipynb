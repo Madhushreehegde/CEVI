{
 "cells": [
  {
   "cell_type": "code",
   "execution_count": 18,
   "metadata": {},
   "outputs": [],
   "source": [
    "import cv2\n",
    "import numpy as np\n",
    "import matplotlib.pyplot as plt"
   ]
  },
  {
   "cell_type": "code",
   "execution_count": 2,
   "metadata": {},
   "outputs": [
    {
     "data": {
      "text/plain": [
       "-1"
      ]
     },
     "execution_count": 2,
     "metadata": {},
     "output_type": "execute_result"
    }
   ],
   "source": [
    "black = np.zeros((512,512) ,dtype=np.uint8)\n",
    "white = np.ones((512,512) ,dtype=np.uint8)*255 #multiply by 255 because of the instensity of light 0-255(brightest, thats whay)\n",
    "cv2.imshow(\"Black\",white)\n",
    "cv2.waitKey(0)"
   ]
  },
  {
   "cell_type": "markdown",
   "metadata": {},
   "source": [
    "IMAGE CREATION `WHITE GREY BLACK`"
   ]
  },
  {
   "cell_type": "code",
   "execution_count": 9,
   "metadata": {},
   "outputs": [
    {
     "data": {
      "text/plain": [
       "-1"
      ]
     },
     "execution_count": 9,
     "metadata": {},
     "output_type": "execute_result"
    }
   ],
   "source": [
    "img = np.zeros((300,300),np.uint8)\n",
    "img[:150,:150] = 128\n",
    "img[150:,150:] = 128\n",
    "img[150:,:150] = 0\n",
    "\n",
    "#or\n",
    "\n",
    "# img=img.transpose() #just commented\n",
    "\n",
    "cv2.imshow(\"Own image\",img)\n",
    "cv2.waitKey(0)"
   ]
  },
  {
   "cell_type": "markdown",
   "metadata": {},
   "source": [
    "CREATING `TRIANGLES` IN AN IMAGE"
   ]
  },
  {
   "cell_type": "code",
   "execution_count": 8,
   "metadata": {},
   "outputs": [
    {
     "data": {
      "text/plain": [
       "-1"
      ]
     },
     "execution_count": 8,
     "metadata": {},
     "output_type": "execute_result"
    }
   ],
   "source": [
    "img = np.zeros((300,300),np.uint8)\n",
    "for i in range(300):\n",
    "    for j in range(300):\n",
    "        if (i+j<300 and i<j):\n",
    "            img[i,j]=128\n",
    "        elif(i+j>300 and i>j):\n",
    "            img[i,j]=128\n",
    "        else:\n",
    "            img[i,j]=0\n",
    "# img = np.array([[ 255 if i<j else 0 for j in range(300)] for i in range(300)])\n",
    "# img=img.transpose()\n",
    "cv2.imshow(\"Own image\",img)\n",
    "cv2.waitKey(0)"
   ]
  },
  {
   "cell_type": "markdown",
   "metadata": {},
   "source": [
    "### Creating `4` UNIQUE `traingles` in an Image"
   ]
  },
  {
   "cell_type": "code",
   "execution_count": 45,
   "metadata": {},
   "outputs": [
    {
     "data": {
      "text/plain": [
       "-1"
      ]
     },
     "execution_count": 45,
     "metadata": {},
     "output_type": "execute_result"
    }
   ],
   "source": [
    "img = np.zeros((300,300,3),dtype=np.uint8)\n",
    "for i in range(300):\n",
    "    for j in range(300):\n",
    "        if (i+j<300 and i<j):\n",
    "            img[i,j,1]=255\n",
    "        elif(i+j>300 and i>j):\n",
    "            img[i,j,2]=255\n",
    "        elif(i+j<300 and i>j):\n",
    "            img[i,j,0]=255\n",
    "        else:\n",
    "            img[i,j]=0\n",
    "cv2.imshow(\"Mine\",img)\n",
    "cv2.waitKey(0)"
   ]
  }
 ],
 "metadata": {
  "kernelspec": {
   "display_name": "jupyter",
   "language": "python",
   "name": "python3"
  },
  "language_info": {
   "codemirror_mode": {
    "name": "ipython",
    "version": 3
   },
   "file_extension": ".py",
   "mimetype": "text/x-python",
   "name": "python",
   "nbconvert_exporter": "python",
   "pygments_lexer": "ipython3",
   "version": "3.11.4"
  },
  "orig_nbformat": 4
 },
 "nbformat": 4,
 "nbformat_minor": 2
}
