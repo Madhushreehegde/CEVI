{
 "cells": [
  {
   "cell_type": "code",
   "execution_count": 4,
   "metadata": {},
   "outputs": [
    {
     "name": "stdout",
     "output_type": "stream",
     "text": [
      "<class 'list'>\n"
     ]
    }
   ],
   "source": [
    "n = list(range(10))\n",
    "print(type(n)) # use help and see "
   ]
  },
  {
   "cell_type": "markdown",
   "metadata": {},
   "source": [
    "### Use of `init()` Function"
   ]
  },
  {
   "cell_type": "code",
   "execution_count": 1,
   "metadata": {},
   "outputs": [
    {
     "name": "stdout",
     "output_type": "stream",
     "text": [
      "Not enough money in Abhijeet's account\n",
      "Abhijeet\n",
      "142452\n"
     ]
    }
   ],
   "source": [
    "class bankaccount:\n",
    "    def __init__(self,name,num,amount):\n",
    "        self.name= name\n",
    "        self.num = num\n",
    "        if(amount>=2000):\n",
    "            self.amount = amount\n",
    "        else:\n",
    "            print(\"Not enough money in {}'s account\".format(name)) #minimum amount holding values\n",
    "        \n",
    "# acc1=bankaccount()\n",
    "# acc1.name=\"Jaden\"   this was nomral way , changed when init() function is used\n",
    "# acc1.num=1263772\n",
    "# acc1.amount=45000\n",
    "\n",
    "# print(acc1.name)\n",
    "# print(acc1.num)\n",
    "# print(acc1.amount)\n",
    "\n",
    "acc1=bankaccount(\"Jaden\",124578,20000)\n",
    "acc2=bankaccount(\"Abhijeet\",142452,200)\n",
    "print(acc2.name)\n",
    "print(acc2.num)\n",
    "# print(acc2.amount)"
   ]
  },
  {
   "cell_type": "markdown",
   "metadata": {},
   "source": [
    "### complex numbers using `init()` Function"
   ]
  },
  {
   "cell_type": "code",
   "execution_count": 45,
   "metadata": {},
   "outputs": [
    {
     "name": "stdout",
     "output_type": "stream",
     "text": [
      "-2-4i\n"
     ]
    }
   ],
   "source": [
    "class complexN:\n",
    "    def __init__(self,real,img):\n",
    "        self.real = real\n",
    "        self.img = img\n",
    "    \n",
    "    def __add__(self,other): #self and other should be of the same class to work\n",
    "        real_sum=self.real + other.real\n",
    "        img_sum=self.img + other.img\n",
    "        return complexN(real_sum,img_sum)\n",
    "    \n",
    "    \n",
    "    def __sub__(self,other): #self and other should be of the same class to work\n",
    "        real_sum=self.real - other.real\n",
    "        img_sum=self.img - other.img\n",
    "        return complexN(real_sum,img_sum)\n",
    "    \n",
    "\n",
    "    def __str__(self):\n",
    "        if(self.img>=0):\n",
    "            return f\"{self.real}+{self.img}i\"\n",
    "        else:\n",
    "            return f\"{self.real}{self.img}i\"\n",
    "            \n",
    "c1 = complexN(1,-2)\n",
    "# print(\"{}+{}i\".format(c1.real,c1.img))\n",
    "c2 = complexN(3,2)\n",
    "r = c1-c2\n",
    "print(r)"
   ]
  },
  {
   "cell_type": "code",
   "execution_count": 51,
   "metadata": {},
   "outputs": [
    {
     "name": "stdout",
     "output_type": "stream",
     "text": [
      "poly((3, 24, 5))\n",
      "poly((2, 23, 4))\n"
     ]
    }
   ],
   "source": [
    "class polynomial:\n",
    "    def __init__(self,*coeffs):\n",
    "        self.coeffs= coeffs\n",
    "    \n",
    "\n",
    "    def __repr__(self):\n",
    "        return 'poly({!r})'.format(self.coeffs)\n",
    "    \n",
    "    def __add__(self,other):\n",
    "        return polynomial(*(x+y for x,y in zip(self.coeffs,other.coeffs)))\n",
    "    \n",
    "    def __mul__(self,other):\n",
    "        return polynomial(*(x*y for x,y in zip(self.coeffs,other.coeffs)))\n",
    "\n",
    "    \n",
    "p1 = polynomial(1,23,4)\n",
    "t = polynomial(2,1,1,3)\n",
    "print(p1+t)\n",
    "print(p1*t)"
   ]
  },
  {
   "cell_type": "code",
   "execution_count": 52,
   "metadata": {},
   "outputs": [],
   "source": [
    "import cv2\n",
    "import numpy as np\n"
   ]
  },
  {
   "cell_type": "code",
   "execution_count": 55,
   "metadata": {},
   "outputs": [
    {
     "data": {
      "text/plain": [
       "-1"
      ]
     },
     "execution_count": 55,
     "metadata": {},
     "output_type": "execute_result"
    }
   ],
   "source": [
    "white = np.ones((300,300))\n",
    "cv2.imshow(\"img\",white)\n",
    "cv2.waitKey(0)"
   ]
  }
 ],
 "metadata": {
  "kernelspec": {
   "display_name": "jupyter",
   "language": "python",
   "name": "python3"
  },
  "language_info": {
   "codemirror_mode": {
    "name": "ipython",
    "version": 3
   },
   "file_extension": ".py",
   "mimetype": "text/x-python",
   "name": "python",
   "nbconvert_exporter": "python",
   "pygments_lexer": "ipython3",
   "version": "3.11.4"
  },
  "orig_nbformat": 4
 },
 "nbformat": 4,
 "nbformat_minor": 2
}
